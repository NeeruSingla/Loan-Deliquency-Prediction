{
 "cells": [
  {
   "cell_type": "code",
   "execution_count": 101,
   "metadata": {},
   "outputs": [],
   "source": [
    "import pandas as pd\n",
    "import seaborn as sns\n",
    "import numpy as np\n",
    "import matplotlib.pyplot as plt\n",
    "%matplotlib inline"
   ]
  },
  {
   "cell_type": "code",
   "execution_count": 102,
   "metadata": {},
   "outputs": [],
   "source": [
    "df_train=pd.read_csv(\"C:\\\\Users\\\\neeru.singla01\\\\Desktop\\\\Loan_Deliquency_Prediction\\\\train.csv\")\n",
    "df_test=pd.read_csv(\"C:\\\\Users\\\\neeru.singla01\\\\Desktop\\\\Loan_Deliquency_Prediction\\\\test.csv\")"
   ]
  },
  {
   "cell_type": "code",
   "execution_count": 103,
   "metadata": {},
   "outputs": [
    {
     "data": {
      "text/plain": [
       "0    115422\n",
       "1       636\n",
       "Name: m13, dtype: int64"
      ]
     },
     "execution_count": 103,
     "metadata": {},
     "output_type": "execute_result"
    }
   ],
   "source": [
    "df_train.m13.value_counts()"
   ]
  },
  {
   "cell_type": "code",
   "execution_count": 104,
   "metadata": {},
   "outputs": [],
   "source": [
    "df_test['m13']=2\n",
    "train_df=df_train.append(df_test,ignore_index=True)"
   ]
  },
  {
   "cell_type": "code",
   "execution_count": 114,
   "metadata": {},
   "outputs": [
    {
     "data": {
      "text/plain": [
       "0    115422\n",
       "2     35866\n",
       "1       636\n",
       "Name: m13, dtype: int64"
      ]
     },
     "execution_count": 114,
     "metadata": {},
     "output_type": "execute_result"
    }
   ],
   "source": [
    "train_df.m13.value_counts()"
   ]
  },
  {
   "cell_type": "code",
   "execution_count": 106,
   "metadata": {},
   "outputs": [],
   "source": [
    "train_df=pd.get_dummies(train_df,columns=['source','financial_institution','loan_purpose']);"
   ]
  },
  {
   "cell_type": "code",
   "execution_count": 107,
   "metadata": {},
   "outputs": [],
   "source": [
    "train_df.interest_rate=pd.qcut(train_df.interest_rate,4,labels=['very_low','low','high','very_high'])"
   ]
  },
  {
   "cell_type": "code",
   "execution_count": 108,
   "metadata": {},
   "outputs": [],
   "source": [
    "train_df=pd.get_dummies(train_df,columns=['interest_rate']);"
   ]
  },
  {
   "cell_type": "code",
   "execution_count": 109,
   "metadata": {},
   "outputs": [],
   "source": [
    "train_df.unpaid_principal_bal=pd.qcut(train_df.unpaid_principal_bal,6,labels=['very_low','low','good','medium','high','very_high'])"
   ]
  },
  {
   "cell_type": "code",
   "execution_count": 110,
   "metadata": {},
   "outputs": [],
   "source": [
    "train_df=pd.get_dummies(train_df,columns=['unpaid_principal_bal']);"
   ]
  },
  {
   "cell_type": "code",
   "execution_count": 111,
   "metadata": {},
   "outputs": [],
   "source": [
    "train_df.loan_term=train_df.loan_term/train_df.loan_term.max()"
   ]
  },
  {
   "cell_type": "code",
   "execution_count": 112,
   "metadata": {},
   "outputs": [],
   "source": [
    "train_df.loan_to_value=train_df.loan_to_value/train_df.loan_to_value.max()"
   ]
  },
  {
   "cell_type": "code",
   "execution_count": 113,
   "metadata": {},
   "outputs": [
    {
     "name": "stderr",
     "output_type": "stream",
     "text": [
      "C:\\ProgramData\\Anaconda3\\lib\\site-packages\\pandas\\core\\generic.py:4401: SettingWithCopyWarning: \n",
      "A value is trying to be set on a copy of a slice from a DataFrame.\n",
      "Try using .loc[row_indexer,col_indexer] = value instead\n",
      "\n",
      "See the caveats in the documentation: http://pandas.pydata.org/pandas-docs/stable/indexing.html#indexing-view-versus-copy\n",
      "  self[name] = value\n"
     ]
    }
   ],
   "source": [
    "train_df.loc[train_df.loan_to_value<=0.2].loan_to_value=train_df.loan_to_value.min()"
   ]
  },
  {
   "cell_type": "code",
   "execution_count": 115,
   "metadata": {},
   "outputs": [],
   "source": [
    "train_df.number_of_borrowers=train_df.number_of_borrowers/train_df.number_of_borrowers.max()"
   ]
  },
  {
   "cell_type": "code",
   "execution_count": 116,
   "metadata": {},
   "outputs": [],
   "source": [
    "train_df.debt_to_income_ratio=train_df.debt_to_income_ratio/train_df.debt_to_income_ratio.max()"
   ]
  },
  {
   "cell_type": "code",
   "execution_count": 117,
   "metadata": {},
   "outputs": [],
   "source": [
    "train_df.borrower_credit_score=pd.qcut(train_df.borrower_credit_score,6,labels=['very_low','low','good','medium','high','very_high'])\n",
    "train_df=pd.get_dummies(train_df,columns=['borrower_credit_score']);"
   ]
  },
  {
   "cell_type": "code",
   "execution_count": 118,
   "metadata": {},
   "outputs": [],
   "source": [
    "train_df['co_borrower_credit_score']=train_df['co-borrower_credit_score']\n",
    "del train_df['co-borrower_credit_score']"
   ]
  },
  {
   "cell_type": "code",
   "execution_count": 119,
   "metadata": {},
   "outputs": [],
   "source": [
    "train_df.co_borrower_credit_score=train_df.co_borrower_credit_score/train_df.co_borrower_credit_score.max()"
   ]
  },
  {
   "cell_type": "code",
   "execution_count": 120,
   "metadata": {},
   "outputs": [],
   "source": [
    "del train_df[\"origination_date\"]\n",
    "del train_df[\"first_payment_date\"]"
   ]
  },
  {
   "cell_type": "code",
   "execution_count": 121,
   "metadata": {},
   "outputs": [
    {
     "data": {
      "text/plain": [
       "0    115422\n",
       "2     35866\n",
       "1       636\n",
       "Name: m13, dtype: int64"
      ]
     },
     "execution_count": 121,
     "metadata": {},
     "output_type": "execute_result"
    }
   ],
   "source": [
    "train_df.m13.value_counts()"
   ]
  },
  {
   "cell_type": "code",
   "execution_count": 122,
   "metadata": {},
   "outputs": [],
   "source": [
    "test=train_df.loc[df_cat.m13==2]"
   ]
  },
  {
   "cell_type": "code",
   "execution_count": 123,
   "metadata": {},
   "outputs": [],
   "source": [
    "train=train_df.loc[df_cat.m13!=2]"
   ]
  },
  {
   "cell_type": "code",
   "execution_count": 124,
   "metadata": {},
   "outputs": [],
   "source": [
    "del test['m13']"
   ]
  },
  {
   "cell_type": "code",
   "execution_count": 125,
   "metadata": {},
   "outputs": [],
   "source": [
    "y=train['m13']\n",
    "del train['m13']\n",
    "X=train"
   ]
  },
  {
   "cell_type": "code",
   "execution_count": 126,
   "metadata": {},
   "outputs": [
    {
     "data": {
      "text/plain": [
       "(116058, 61)"
      ]
     },
     "execution_count": 126,
     "metadata": {},
     "output_type": "execute_result"
    }
   ],
   "source": [
    "X.shape"
   ]
  },
  {
   "cell_type": "code",
   "execution_count": 127,
   "metadata": {},
   "outputs": [
    {
     "data": {
      "text/plain": [
       "(116058,)"
      ]
     },
     "execution_count": 127,
     "metadata": {},
     "output_type": "execute_result"
    }
   ],
   "source": [
    "y.shape"
   ]
  },
  {
   "cell_type": "code",
   "execution_count": 128,
   "metadata": {},
   "outputs": [],
   "source": [
    "from sklearn.model_selection import train_test_split\n",
    "X_train, X_test, y_train, y_test = train_test_split(X, y, test_size=0.33, random_state=42)"
   ]
  },
  {
   "cell_type": "code",
   "execution_count": 129,
   "metadata": {},
   "outputs": [
    {
     "name": "stderr",
     "output_type": "stream",
     "text": [
      "C:\\ProgramData\\Anaconda3\\lib\\site-packages\\sklearn\\discriminant_analysis.py:388: UserWarning: Variables are collinear.\n",
      "  warnings.warn(\"Variables are collinear.\")\n"
     ]
    },
    {
     "name": "stdout",
     "output_type": "stream",
     "text": [
      "0.9957963446475195  gbc\n",
      "0.9921932114882507  dt\n",
      "0.9944386422976501  lr\n",
      "0.9957702349869452  rf\n",
      "0.994934725848564  lda\n",
      "0.9955352480417755  etr\n",
      "0.9944386422976501  n\n",
      "0.9944386422976501  gnb\n",
      "0.9954830287206267  bca\n"
     ]
    }
   ],
   "source": [
    "from sklearn.linear_model import LogisticRegression\n",
    "from sklearn.tree import DecisionTreeClassifier\n",
    "from sklearn.ensemble.forest import RandomForestClassifier,ExtraTreesClassifier\n",
    "from sklearn.ensemble.bagging import BaggingClassifier\n",
    "from sklearn.ensemble.gradient_boosting import GradientBoostingClassifier\n",
    "from sklearn.neighbors import KNeighborsClassifier\n",
    "from sklearn.naive_bayes import GaussianNB\n",
    "from sklearn.discriminant_analysis import LinearDiscriminantAnalysis\n",
    "\n",
    "\n",
    "model_gbc=GradientBoostingClassifier();\n",
    "model_dt=DecisionTreeClassifier()\n",
    "model_lr=LogisticRegression()\n",
    "model_rf=RandomForestClassifier()\n",
    "model_lda=LinearDiscriminantAnalysis()\n",
    "model_etr=ExtraTreesClassifier()\n",
    "model_n=KNeighborsClassifier()\n",
    "model_gnb=GaussianNB()\n",
    "model_bca=BaggingClassifier()\n",
    "\n",
    "model_gbc.fit(X_train,y_train)\n",
    "model_dt.fit(X_train,y_train)\n",
    "model_lr.fit(X_train,y_train)\n",
    "model_rf.fit(X_train,y_train)\n",
    "model_lda.fit(X_train,y_train)\n",
    "model_etr.fit(X_train,y_train)\n",
    "model_n.fit(X_train,y_train)\n",
    "model_gnb.fit(X_train,y_train)\n",
    "model_bca.fit(X_train,y_train)\n",
    "\n",
    "\n",
    "print(model_gbc.score(X_test,y_test),' gbc')\n",
    "print(model_dt.score(X_test,y_test),' dt')\n",
    "print(model_lr.score(X_test,y_test),' lr')\n",
    "print(model_rf.score(X_test,y_test),' rf')\n",
    "print(model_lda.score(X_test,y_test),' lda')\n",
    "print(model_etr.score(X_test,y_test),' etr')\n",
    "print(model_n.score(X_test,y_test),' n')\n",
    "print(model_gnb.score(X_test,y_test),' gnb')\n",
    "print(model_bca.score(X_test,y_test),' bca')"
   ]
  },
  {
   "cell_type": "code",
   "execution_count": 139,
   "metadata": {
    "scrolled": true
   },
   "outputs": [
    {
     "name": "stdout",
     "output_type": "stream",
     "text": [
      "0.47896440129449835\n",
      "0.3250564334085779\n",
      "0.0\n"
     ]
    },
    {
     "name": "stderr",
     "output_type": "stream",
     "text": [
      "C:\\ProgramData\\Anaconda3\\lib\\site-packages\\sklearn\\metrics\\classification.py:1135: UndefinedMetricWarning: F-score is ill-defined and being set to 0.0 due to no predicted samples.\n",
      "  'precision', 'predicted', average, warn_for)\n"
     ]
    },
    {
     "name": "stdout",
     "output_type": "stream",
     "text": [
      "0.45270270270270263\n",
      "0.4894736842105263\n",
      "0.45714285714285713\n"
     ]
    },
    {
     "name": "stderr",
     "output_type": "stream",
     "text": [
      "C:\\ProgramData\\Anaconda3\\lib\\site-packages\\sklearn\\metrics\\classification.py:1135: UndefinedMetricWarning: F-score is ill-defined and being set to 0.0 due to no predicted samples.\n",
      "  'precision', 'predicted', average, warn_for)\n"
     ]
    },
    {
     "name": "stdout",
     "output_type": "stream",
     "text": [
      "0.0\n"
     ]
    },
    {
     "name": "stderr",
     "output_type": "stream",
     "text": [
      "C:\\ProgramData\\Anaconda3\\lib\\site-packages\\sklearn\\metrics\\classification.py:1135: UndefinedMetricWarning: F-score is ill-defined and being set to 0.0 due to no predicted samples.\n",
      "  'precision', 'predicted', average, warn_for)\n"
     ]
    },
    {
     "name": "stdout",
     "output_type": "stream",
     "text": [
      "0.0\n",
      "0.4401294498381877\n"
     ]
    }
   ],
   "source": [
    "print(f1_score(y_test,model_gbc.predict(X_test)))\n",
    "print(f1_score(y_test,model_dt.predict(X_test)))\n",
    "print(f1_score(y_test,model_lr.predict(X_test)))\n",
    "print(f1_score(y_test,model_rf.predict(X_test)))\n",
    "print(f1_score(y_test,model_lda.predict(X_test)))\n",
    "print(f1_score(y_test,model_etr.predict(X_test)))\n",
    "print(f1_score(y_test,model_n.predict(X_test)))\n",
    "print(f1_score(y_test,model_gnb.predict(X_test)))\n",
    "print(f1_score(y_test,model_bca.predict(X_test)))"
   ]
  },
  {
   "cell_type": "code",
   "execution_count": 141,
   "metadata": {},
   "outputs": [],
   "source": [
    "xgb_pred=model_gbc.predict(test)"
   ]
  },
  {
   "cell_type": "code",
   "execution_count": 142,
   "metadata": {},
   "outputs": [],
   "source": [
    "xgb_mod=pd.DataFrame({'loan_id':test.loan_id,'m13':xgb_pred})\n",
    "xgb_mod.to_csv(\"C:\\\\Users\\\\neeru.singla01\\\\Desktop\\\\Loan_Deliquency_Prediction\\\\xgb_result.csv\",index=False)"
   ]
  },
  {
   "cell_type": "code",
   "execution_count": 140,
   "metadata": {},
   "outputs": [
    {
     "data": {
      "text/plain": [
       "116058        1\n",
       "116059        2\n",
       "116060        3\n",
       "116061        4\n",
       "116062        5\n",
       "116063        6\n",
       "116064        7\n",
       "116065        8\n",
       "116066        9\n",
       "116067       10\n",
       "116068       11\n",
       "116069       12\n",
       "116070       13\n",
       "116071       14\n",
       "116072       15\n",
       "116073       16\n",
       "116074       17\n",
       "116075       18\n",
       "116076       19\n",
       "116077       20\n",
       "116078       21\n",
       "116079       22\n",
       "116080       23\n",
       "116081       24\n",
       "116082       25\n",
       "116083       26\n",
       "116084       27\n",
       "116085       28\n",
       "116086       29\n",
       "116087       30\n",
       "          ...  \n",
       "151894    35837\n",
       "151895    35838\n",
       "151896    35839\n",
       "151897    35840\n",
       "151898    35841\n",
       "151899    35842\n",
       "151900    35843\n",
       "151901    35844\n",
       "151902    35845\n",
       "151903    35846\n",
       "151904    35847\n",
       "151905    35848\n",
       "151906    35849\n",
       "151907    35850\n",
       "151908    35851\n",
       "151909    35852\n",
       "151910    35853\n",
       "151911    35854\n",
       "151912    35855\n",
       "151913    35856\n",
       "151914    35857\n",
       "151915    35858\n",
       "151916    35859\n",
       "151917    35860\n",
       "151918    35861\n",
       "151919    35862\n",
       "151920    35863\n",
       "151921    35864\n",
       "151922    35865\n",
       "151923    35866\n",
       "Name: loan_id, Length: 35866, dtype: int64"
      ]
     },
     "execution_count": 140,
     "metadata": {},
     "output_type": "execute_result"
    }
   ],
   "source": [
    "test.loan_id"
   ]
  }
 ],
 "metadata": {
  "kernelspec": {
   "display_name": "Python 3",
   "language": "python",
   "name": "python3"
  },
  "language_info": {
   "codemirror_mode": {
    "name": "ipython",
    "version": 3
   },
   "file_extension": ".py",
   "mimetype": "text/x-python",
   "name": "python",
   "nbconvert_exporter": "python",
   "pygments_lexer": "ipython3",
   "version": "3.6.5"
  }
 },
 "nbformat": 4,
 "nbformat_minor": 2
}
